{
  "nbformat": 4,
  "nbformat_minor": 0,
  "metadata": {
    "colab": {
      "provenance": []
    },
    "kernelspec": {
      "name": "python3",
      "display_name": "Python 3"
    },
    "language_info": {
      "name": "python"
    }
  },
  "cells": [
    {
      "cell_type": "code",
      "source": [
        "!apt-get install openjdk-11-jdk-headless -qq > /dev/null"
      ],
      "metadata": {
        "id": "3Gru_p0K8ENV"
      },
      "execution_count": 2,
      "outputs": []
    },
    {
      "cell_type": "code",
      "source": [
        "!wget -q https://dlcdn.apache.org/spark/spark-3.5.0/spark-3.5.0-bin-hadoop3.tgz"
      ],
      "metadata": {
        "id": "s7AhVYTZ8Gv_"
      },
      "execution_count": 3,
      "outputs": []
    },
    {
      "cell_type": "code",
      "source": [
        "!tar xf spark-3.5.0-bin-hadoop3.tgz"
      ],
      "metadata": {
        "id": "CLop1n5c8Gyd"
      },
      "execution_count": 4,
      "outputs": []
    },
    {
      "cell_type": "code",
      "source": [
        "!pip install -q findspark\n",
        "\n",
        "!pip install pyspark -q"
      ],
      "metadata": {
        "colab": {
          "base_uri": "https://localhost:8080/"
        },
        "id": "aV-MazXg8G1F",
        "outputId": "7665f458-f230-4e0a-a546-89c9027ef54a"
      },
      "execution_count": 5,
      "outputs": [
        {
          "output_type": "stream",
          "name": "stdout",
          "text": [
            "\u001b[2K     \u001b[90m━━━━━━━━━━━━━━━━━━━━━━━━━━━━━━━━━━━━━━━━\u001b[0m \u001b[32m316.9/316.9 MB\u001b[0m \u001b[31m4.4 MB/s\u001b[0m eta \u001b[36m0:00:00\u001b[0m\n",
            "\u001b[?25h  Preparing metadata (setup.py) ... \u001b[?25l\u001b[?25hdone\n",
            "  Building wheel for pyspark (setup.py) ... \u001b[?25l\u001b[?25hdone\n"
          ]
        }
      ]
    },
    {
      "cell_type": "code",
      "source": [
        "import os\n",
        "os.environ[\"JAVA_HOME\"] = \"/usr/lib/jvm/java-11-openjdk-amd64\"\n",
        "os.environ[\"SPARK_HOME\"] = \"./spark-3.5.0-bin-hadoop3\""
      ],
      "metadata": {
        "id": "QrRHyFa-8KvN"
      },
      "execution_count": 6,
      "outputs": []
    },
    {
      "cell_type": "code",
      "source": [
        "import findspark\n",
        "\n",
        "findspark.init()\n",
        "findspark.find()"
      ],
      "metadata": {
        "colab": {
          "base_uri": "https://localhost:8080/",
          "height": 36
        },
        "id": "6J0lpEgp8KyH",
        "outputId": "c4746caa-a0e1-44f1-cc2c-46bccef49583"
      },
      "execution_count": 7,
      "outputs": [
        {
          "output_type": "execute_result",
          "data": {
            "text/plain": [
              "'./spark-3.5.0-bin-hadoop3'"
            ],
            "application/vnd.google.colaboratory.intrinsic+json": {
              "type": "string"
            }
          },
          "metadata": {},
          "execution_count": 7
        }
      ]
    },
    {
      "cell_type": "code",
      "source": [
        "from pyspark import SparkContext, SparkConf\n",
        "\n",
        "conf = SparkConf().setAppName(\"CustomerOrders\").setMaster(\"local\")\n",
        "sc = SparkContext(conf=conf)\n",
        "\n",
        "# Wczytaj dane z pliku customer-orders.csv\n",
        "lines = sc.textFile(\"customer-orders.csv\")\n",
        "\n",
        "# Funkcja do parsowania linii i zamiany kwoty zamówienia na liczbę\n",
        "def parse_line(line):\n",
        "    fields = line.split(',')\n",
        "    customer_id = int(fields[0])\n",
        "    order_value = float(fields[2])\n",
        "    return (customer_id, order_value)\n",
        "\n",
        "# Przekształć dane i zsumuj wartości zamówień dla każdego klienta\n",
        "customer_orders = lines.map(parse_line)\n",
        "total_orders = customer_orders.reduceByKey(lambda x, y: x + y)\n",
        "\n",
        "# Wyświetl wyniki\n",
        "for result in total_orders.collect():\n",
        "    print(\"Customer {}: {:.2f}\".format(result[0], result[1]))\n",
        "\n",
        "sc.stop()"
      ],
      "metadata": {
        "colab": {
          "base_uri": "https://localhost:8080/"
        },
        "id": "R2GLIcf37TnP",
        "outputId": "07e08e14-e715-4c56-ffc2-8cc4ebca3748"
      },
      "execution_count": 8,
      "outputs": [
        {
          "output_type": "stream",
          "name": "stdout",
          "text": [
            "Customer 44: 4756.89\n",
            "Customer 35: 5155.42\n",
            "Customer 2: 5994.59\n",
            "Customer 47: 4316.30\n",
            "Customer 29: 5032.53\n",
            "Customer 91: 4642.26\n",
            "Customer 70: 5368.25\n",
            "Customer 85: 5503.43\n",
            "Customer 53: 4945.30\n",
            "Customer 14: 4735.03\n",
            "Customer 51: 4975.22\n",
            "Customer 42: 5696.84\n",
            "Customer 79: 3790.57\n",
            "Customer 50: 4517.27\n",
            "Customer 20: 4836.86\n",
            "Customer 15: 5413.51\n",
            "Customer 5: 4561.07\n",
            "Customer 48: 4384.33\n",
            "Customer 31: 4765.05\n",
            "Customer 4: 4815.05\n",
            "Customer 36: 4278.05\n",
            "Customer 57: 4628.40\n",
            "Customer 12: 4664.59\n",
            "Customer 22: 5019.45\n",
            "Customer 54: 6065.39\n",
            "Customer 0: 5524.95\n",
            "Customer 88: 4830.55\n",
            "Customer 86: 4908.81\n",
            "Customer 13: 4367.62\n",
            "Customer 40: 5186.43\n",
            "Customer 98: 4297.26\n",
            "Customer 55: 5298.09\n",
            "Customer 95: 4876.84\n",
            "Customer 61: 5497.48\n",
            "Customer 27: 4915.89\n",
            "Customer 78: 4524.51\n",
            "Customer 83: 4635.80\n",
            "Customer 6: 5397.88\n",
            "Customer 26: 5250.40\n",
            "Customer 75: 4178.50\n",
            "Customer 25: 5057.61\n",
            "Customer 71: 5995.66\n",
            "Customer 39: 6193.11\n",
            "Customer 60: 5040.71\n",
            "Customer 97: 5977.19\n",
            "Customer 7: 4755.07\n",
            "Customer 21: 4707.41\n",
            "Customer 69: 5123.01\n",
            "Customer 37: 4735.20\n",
            "Customer 1: 4958.60\n",
            "Customer 64: 5288.69\n",
            "Customer 82: 4812.49\n",
            "Customer 72: 5337.44\n",
            "Customer 99: 4172.29\n",
            "Customer 34: 5330.80\n",
            "Customer 73: 6206.20\n",
            "Customer 49: 4394.60\n",
            "Customer 8: 5517.24\n",
            "Customer 46: 5963.11\n",
            "Customer 23: 4042.65\n",
            "Customer 19: 5059.43\n",
            "Customer 65: 5140.35\n",
            "Customer 80: 4727.86\n",
            "Customer 16: 4979.06\n",
            "Customer 9: 5322.65\n",
            "Customer 18: 4921.27\n",
            "Customer 59: 5642.89\n",
            "Customer 74: 4647.13\n",
            "Customer 30: 4990.72\n",
            "Customer 56: 4701.02\n",
            "Customer 90: 5290.41\n",
            "Customer 68: 6375.45\n",
            "Customer 11: 5152.29\n",
            "Customer 10: 4819.70\n",
            "Customer 41: 5637.62\n",
            "Customer 58: 5437.73\n",
            "Customer 87: 5206.40\n",
            "Customer 17: 5032.68\n",
            "Customer 33: 5254.66\n",
            "Customer 62: 5253.32\n",
            "Customer 92: 5379.28\n",
            "Customer 76: 4904.21\n",
            "Customer 66: 4681.92\n",
            "Customer 43: 5368.83\n",
            "Customer 52: 5245.06\n",
            "Customer 77: 4327.73\n",
            "Customer 81: 5112.71\n",
            "Customer 84: 4652.94\n",
            "Customer 3: 4659.63\n",
            "Customer 93: 5265.75\n",
            "Customer 89: 4851.48\n",
            "Customer 45: 3309.38\n",
            "Customer 24: 5259.92\n",
            "Customer 96: 3924.23\n",
            "Customer 67: 4505.79\n",
            "Customer 63: 5415.15\n",
            "Customer 94: 4475.57\n",
            "Customer 32: 5496.05\n",
            "Customer 38: 4898.46\n",
            "Customer 28: 5000.71\n"
          ]
        }
      ]
    }
  ]
}